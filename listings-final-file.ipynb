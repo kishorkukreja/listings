{
 "cells": [
  {
   "cell_type": "code",
   "execution_count": 18,
   "metadata": {
    "ExecuteTime": {
     "end_time": "2019-04-23T15:59:50.168662Z",
     "start_time": "2019-04-23T15:59:49.987047Z"
    }
   },
   "outputs": [],
   "source": [
    "import pandas as pd\n",
    "import numpy as np\n",
    "import os\n",
    "import matplotlib.pyplot as plt\n",
    "%matplotlib inline"
   ]
  },
  {
   "cell_type": "code",
   "execution_count": 19,
   "metadata": {
    "ExecuteTime": {
     "end_time": "2019-04-23T15:59:50.409917Z",
     "start_time": "2019-04-23T15:59:50.403931Z"
    }
   },
   "outputs": [],
   "source": [
    "from sklearn.model_selection import train_test_split\n",
    "from sklearn.ensemble import RandomForestClassifier\n",
    "from sklearn.metrics import accuracy_score\n",
    "from sklearn.metrics import confusion_matrix\n",
    "import seaborn as sns\n",
    "from sklearn.metrics import confusion_matrix,recall_score,precision_recall_curve,auc,roc_curve,roc_auc_score,classification_report\n",
    "import warnings\n",
    "warnings.filterwarnings('ignore')\n",
    "from sklearn.metrics import f1_score"
   ]
  },
  {
   "cell_type": "code",
   "execution_count": 28,
   "metadata": {
    "ExecuteTime": {
     "end_time": "2019-04-23T16:03:57.208811Z",
     "start_time": "2019-04-23T16:03:57.201831Z"
    }
   },
   "outputs": [],
   "source": [
    "from sklearn.preprocessing import StandardScaler\n",
    "from sklearn.model_selection import train_test_split\n",
    "from sklearn import metrics\n",
    "from sklearn.metrics import f1_score, roc_auc_score\n",
    "from sklearn.linear_model import LogisticRegression\n",
    "from sklearn.ensemble import RandomForestClassifier\n",
    "from sklearn.model_selection import GridSearchCV\n",
    "from sklearn.neural_network import MLPClassifier\n",
    "from imblearn.pipeline import make_pipeline as make_pipeline_imb\n",
    "from imblearn.over_sampling import SMOTE\n",
    "from imblearn.metrics import classification_report_imbalanced\n",
    "import xgboost as xgb\n",
    "from xgboost import XGBClassifier\n",
    "import pandas as pd\n",
    "import matplotlib.pyplot as plt\n",
    "from collections import Counter\n",
    "import time"
   ]
  },
  {
   "cell_type": "code",
   "execution_count": 29,
   "metadata": {
    "ExecuteTime": {
     "end_time": "2019-04-23T16:04:02.331456Z",
     "start_time": "2019-04-23T16:04:02.322489Z"
    }
   },
   "outputs": [],
   "source": [
    "def missing_values_table(df):\n",
    "        mis_val = df.isnull().sum()\n",
    "        mis_val_percent = 100 * df.isnull().sum() / len(df)\n",
    "        mis_val_table = pd.concat([mis_val, mis_val_percent], axis=1)\n",
    "        mis_val_table_ren_columns = mis_val_table.rename(\n",
    "        columns = {0 : 'Missing Values', 1 : '% of Total Values'})\n",
    "        mis_val_table_ren_columns = mis_val_table_ren_columns[\n",
    "            mis_val_table_ren_columns.iloc[:,1] != 0].sort_values(\n",
    "        '% of Total Values', ascending=False).round(1)\n",
    "        print (\"Your selected dataframe has \" + str(df.shape[1]) + \" columns.\\n\"      \n",
    "            \"There are \" + str(mis_val_table_ren_columns.shape[0]) +\n",
    "              \" columns that have missing values.\")\n",
    "        return mis_val_table_ren_columns"
   ]
  },
  {
   "cell_type": "code",
   "execution_count": 21,
   "metadata": {
    "ExecuteTime": {
     "end_time": "2019-04-23T15:59:54.615662Z",
     "start_time": "2019-04-23T15:59:54.609678Z"
    }
   },
   "outputs": [],
   "source": [
    "def prepareTrainData(csv_file):\n",
    "    df=pd.read_csv(csv_file,sep=';',lineterminator='\\n')\n",
    "    df['type']='Train'\n",
    "    missing_in_train=missing_values_table(df)\n",
    "    missing_in_train.reset_index(inplace=True)\n",
    "    drop_cols=np.unique(missing_in_train[missing_in_train['% of Total Values']>=50]['index'])\n",
    "    df_new=df.drop(drop_cols,axis=1)\n",
    "    return df_new,drop_cols"
   ]
  },
  {
   "cell_type": "code",
   "execution_count": 22,
   "metadata": {
    "ExecuteTime": {
     "end_time": "2019-04-23T15:59:58.895211Z",
     "start_time": "2019-04-23T15:59:58.872276Z"
    }
   },
   "outputs": [],
   "source": [
    "def prepareData(train_csv,test_csv):\n",
    "    ## preprocess\n",
    "    df_train,drop_cols=prepareTrainData(train_csv)\n",
    "    df=pd.read_csv(test_csv,sep=';',lineterminator='\\n')\n",
    "    df['type']='Test'\n",
    "    df_new=df.drop(drop_cols,axis=1)\n",
    "    df_test=df_new.copy()\n",
    "    df_test.rename(columns={'GUID':'ID'},inplace=True)\n",
    "    df_total=pd.concat([df_train,df_test],axis=0)\n",
    "    df_total=df_total[~df_total['Country'].isnull()]\n",
    "    df1=df_total[~df_total['Description'].isnull()]\n",
    "    df1['Price'] = df1['Price'].astype(float)\n",
    "    df1['Price'].describe()\n",
    "    df_temp=df1.Property_Type.value_counts().reset_index()\n",
    "    drop_data_property=np.unique(df_temp[df_temp['Property_Type']<10]['index'])\n",
    "    df1a=df1[~df1['Property_Type'].isin(drop_data_property)]\n",
    "    print(df1a.shape)\n",
    "    df1a.Amenities = df1a.Amenities.str.replace(\"[{}]\", \"\").str.replace('\"', \"\")\n",
    "    df11=df1a[~df1a['Amenities'].isnull()]\n",
    "    df11['Cleaning_Fee'] = df11['Cleaning_Fee'].fillna(value=0)\n",
    "    df11['Cleaning_Fee'] = df11['Cleaning_Fee'].replace( '[\\$,)]','', regex=True ).astype(float)\n",
    "    df11.Features = df11.Features.str.replace(\"[{}]\", \"\").str.replace('\"', \"\")\n",
    "    feat=set()\n",
    "    for i,row in df11.iterrows():\n",
    "        if pd.notna(row['Features']):\n",
    "            l=row['Features'].split(',')\n",
    "            for j in l:\n",
    "                feat.add(j)\n",
    "    df12=df11.copy()\n",
    "    df12['Host Identity Verified']=df12.apply(lambda x :1 if pd.notnull(x['Features']) and 'Host Identity Verified' in x['Features'] else 0, axis=1)\n",
    "    df12['Host Has Profile Pic']=df12.apply(lambda x :1 if pd.notnull(x['Features']) and 'Host Has Profile Pic' in x['Features'] else 0, axis=1)\n",
    "    df12['Host Is Superhost']=df12.apply(lambda x :1 if pd.notnull(x['Features']) and 'Host Is Superhost' in x['Features'] else 0, axis=1)\n",
    "    df12['Instant Bookable']=df12.apply(lambda x :1 if pd.notnull(x['Features']) and 'Instant Bookable' in x['Features'] else 0, axis=1)\n",
    "    df12['Is Location Exact']=df12.apply(lambda x :1 if pd.notnull(x['Features']) and 'Is Location Exact' in x['Features'] else 0, axis=1)\n",
    "    df12['Require Guest Phone Verification']=df12.apply(lambda x :1 if pd.notnull(x['Features']) and 'Require Guest Phone Verification' in x['Features'] else 0, axis=1)\n",
    "    df12['Requires License']=df12.apply(lambda x :1 if pd.notnull(x['Features']) and 'Requires License' in x['Features'] else 0, axis=1)\n",
    "    df13 = df12[['Host Has Profile Pic', 'Host Identity Verified', 'Host Is Superhost','Instant Bookable', \n",
    "                             'Is Location Exact', 'Require Guest Phone Verification', 'Requires License', \n",
    "                         'Guests_Included','Calculated_host_listings_count','Accommodates',\n",
    "                               'Cleaning_Fee', 'Extra_People',\n",
    "                             'Host_Listings_Count', 'Host_Total_Listings_Count', 'Minimum_Nights','Maximum_Nights','Beds',\n",
    "                         'Bathrooms', 'Bedrooms', 'Number_of_Reviews', 'Price',\n",
    "                'Availability_30',\n",
    "           'Availability_60', 'Availability_90', 'Availability_365','ID']]\n",
    "\n",
    "    for col in df13.columns[df13.isnull().any()]:\n",
    "        df13[col] = df13[col].fillna(df13[col].median())\n",
    "\n",
    "    for cat_feature in ['Property_Type', 'Cancellation_Policy', 'Bed_Type','Room_Type']:\n",
    "        df13 = pd.concat([df13, pd.get_dummies(df12[cat_feature])], axis=1)\n",
    "\n",
    "    df13 = pd.concat([df13, df12['Listing_Type']], axis=1)\n",
    "    \n",
    "    df_amenities=create_bow(df11,'Amenities')\n",
    "\n",
    "    df14 = pd.concat([df13, df_amenities], axis=1, join='inner')\n",
    "\n",
    "    df14a=pd.concat([df14, df12['type']], axis=1, join='inner')\n",
    "    print(df14a.shape)\n",
    "\n",
    "    df14a['Listing_Type']=df14a.apply(lambda x : 1 if x['Listing_Type']=='Good' else 0, axis=1) \n",
    "   \n",
    "    return df14a"
   ]
  },
  {
   "cell_type": "code",
   "execution_count": 23,
   "metadata": {
    "ExecuteTime": {
     "end_time": "2019-04-23T16:00:00.116941Z",
     "start_time": "2019-04-23T16:00:00.109959Z"
    }
   },
   "outputs": [],
   "source": [
    "def create_bow(df,col):\n",
    "    from sklearn.feature_extraction.text import CountVectorizer\n",
    "    count_vectorizer =  CountVectorizer(tokenizer=lambda x: x.split(','))\n",
    "    amenities = count_vectorizer.fit_transform(df[col])\n",
    "    df_amenities = pd.DataFrame(amenities.toarray(), columns=count_vectorizer.get_feature_names())\n",
    "    df_amenities = df_amenities.drop('',1)\n",
    "    return df_amenities"
   ]
  },
  {
   "cell_type": "code",
   "execution_count": 24,
   "metadata": {
    "ExecuteTime": {
     "end_time": "2019-04-23T16:00:03.948874Z",
     "start_time": "2019-04-23T16:00:03.919952Z"
    }
   },
   "outputs": [],
   "source": [
    "def apply_models(df14a):\n",
    "    ## for Training\n",
    "    df15=df14a[df14a['type']=='Train']\n",
    "    y = df15['Listing_Type']\n",
    "    x = df15.drop(['Listing_Type','type','ID'], axis =1)\n",
    "    X_train, X_test, y_train, y_test = train_test_split(x, y, test_size = 0.2, random_state=42)\n",
    "\n",
    "    rf =RandomForestClassifier(bootstrap=True, class_weight=None, criterion='gini',\n",
    "                max_depth=None, max_features='auto', max_leaf_nodes=None,\n",
    "                min_impurity_split=1e-07, min_samples_leaf=1,\n",
    "                min_samples_split=2, min_weight_fraction_leaf=0.0,\n",
    "                n_estimators=10, n_jobs=1, oob_score=False, random_state=None,\n",
    "                verbose=0, warm_start=False)\n",
    "\n",
    "    rf.fit(X_train, y_train)\n",
    "    y_train_pred = rf.predict(X_train)\n",
    "    y_test_pred = rf.predict(X_test)\n",
    "\n",
    "    print('with RF Normal')\n",
    "    cnf_matrix=confusion_matrix(y_test,y_test_pred)\n",
    "    fig, ax = plt.subplots(figsize=(10,9))\n",
    "    sns.heatmap(cnf_matrix,annot=True,linewidths=0.5,ax=ax,fmt='d')\n",
    "    plt.title('Heat Map',fontsize=18)\n",
    "    #cmap=\"coolwarm_r\"\n",
    "    print(classification_report(y_test,y_test_pred))\n",
    "    f1 = f1_score(y_test,y_test_pred,average=None)\n",
    "    #print(\"Iter & Depth is\",(i,d))\n",
    "    print(\"F1 score for all clasess is \",f1)\n",
    "    print(\"TP\",cnf_matrix[1,1,]) \n",
    "    print(\"TN\",cnf_matrix[0,0]) \n",
    "    print(\"FP\",cnf_matrix[0,1]) \n",
    "    print(\"FN\",cnf_matrix[1,0])\n",
    "\n",
    "    class_weight = dict({0:12,1:2})\n",
    "    rdf = RandomForestClassifier(bootstrap=True,\n",
    "                class_weight=class_weight, \n",
    "                criterion='gini',\n",
    "                max_features='auto', max_leaf_nodes=None,\n",
    "                min_impurity_decrease=0.0, min_impurity_split=1e-07,\n",
    "                min_samples_leaf=4, min_samples_split=10,\n",
    "                min_weight_fraction_leaf=0.0, n_estimators=500,\n",
    "                oob_score=False,\n",
    "                random_state=42,\n",
    "                verbose=0, warm_start=False)\n",
    "\n",
    "    rdf.fit(X_train, y_train)\n",
    "    y_train_pred_rdf = rdf.predict(X_train)\n",
    "    y_test_pred_rdf = rdf.predict(X_test)\n",
    "    print('With RF Weighted')\n",
    "    cnf_matrix=confusion_matrix(y_test,y_test_pred_rdf)\n",
    "    fig, ax = plt.subplots(figsize=(10,9))\n",
    "    sns.heatmap(cnf_matrix,annot=True,linewidths=0.5,ax=ax,fmt='d')\n",
    "    plt.title('Heat Map',fontsize=18)\n",
    "    #cmap=\"coolwarm_r\"\n",
    "    print(classification_report(y_test,y_test_pred_rdf))\n",
    "    f1 = f1_score(y_test,y_test_pred_rdf,average=None)\n",
    "    #print(\"Iter & Depth is\",(i,d))\n",
    "    print(\"F1 score for all clasess is \",f1)\n",
    "    print(\"TP\",cnf_matrix[1,1,]) \n",
    "    print(\"TN\",cnf_matrix[0,0]) \n",
    "    print(\"FP\",cnf_matrix[0,1]) \n",
    "    print(\"FN\",cnf_matrix[1,0])\n",
    "\n",
    "\n",
    "    xgb_model = xgb.XGBClassifier(objective=\"binary:logistic\", n_estimators=400, random_state=42, eval_metric=[\"auc\", \"error\", \"error@0.6\"])\n",
    "\n",
    "    #X_train, X_test, y_train, y_test = train_test_split(X, y, random_state=42)\n",
    "\n",
    "    xgb_model.fit(X_train, y_train, eval_set=[(X_test, y_test)])\n",
    "    y_train_pred_xgb = xgb_model.predict(X_train)\n",
    "    y_test_pred_xgb = xgb_model.predict(X_test)\n",
    "\n",
    "    print('with XGB')\n",
    "    cnf_matrix=confusion_matrix(y_test,y_test_pred_xgb)\n",
    "    fig, ax = plt.subplots(figsize=(10,9))\n",
    "    sns.heatmap(cnf_matrix,annot=True,linewidths=0.5,ax=ax,fmt='d')\n",
    "    plt.title('Heat Map',fontsize=18)\n",
    "    #cmap=\"coolwarm_r\"\n",
    "    print(classification_report(y_test,y_test_pred_xgb))\n",
    "    f1 = f1_score(y_test,y_test_pred_xgb,average=None)\n",
    "    #print(\"Iter & Depth is\",(i,d))\n",
    "    print(\"F1 score for all clasess is \",f1)\n",
    "    print(\"TP\",cnf_matrix[1,1,]) \n",
    "    print(\"TN\",cnf_matrix[0,0]) \n",
    "    print(\"FP\",cnf_matrix[0,1]) \n",
    "    print(\"FN\",cnf_matrix[1,0])\n",
    "\n",
    "    df_tr=pd.DataFrame(np.hstack([X_train,pd.DataFrame(y_train_pred),pd.DataFrame(y_train_pred_rdf),pd.DataFrame(y_train_pred_xgb)]))\n",
    "    cols=list(X_train.columns)\n",
    "    cols.append('pred from rf')\n",
    "    cols.append('pred from rf weight')\n",
    "    cols.append('pred from xgb')\n",
    "    df_tr.columns=cols\n",
    "    #df_test_new=pd.concat([X_test, pd.DataFrame(y_test_pred),pd.DataFrame(y_test_pred_rdf),pd.DataFrame(y_test_pred_xgb)],axis=1)\n",
    "    df_te=pd.DataFrame(np.hstack([X_test,pd.DataFrame(y_test_pred),pd.DataFrame(y_test_pred_rdf),pd.DataFrame(y_test_pred_xgb)]))\n",
    "    cols=list(X_test.columns)\n",
    "    cols.append('pred from rf')\n",
    "    cols.append('pred from rf weight')\n",
    "    cols.append('pred from xgb')\n",
    "    df_te.columns=cols\n",
    "\n",
    "\n",
    "    model = LogisticRegression()\n",
    "    model.fit(df_tr,y_train)\n",
    "    model.score(df_te,y_test)\n",
    "\n",
    "    return df15,rf,rdf,xgb_model,model"
   ]
  },
  {
   "cell_type": "code",
   "execution_count": 31,
   "metadata": {
    "ExecuteTime": {
     "end_time": "2019-04-23T16:31:52.548729Z",
     "start_time": "2019-04-23T16:31:52.382176Z"
    }
   },
   "outputs": [],
   "source": [
    "def generatePredictions(df,rf,rdf,xgb_model,model):\n",
    "    df1=df[df['type']=='Test']\n",
    "    ##y = df15['Listing_Type']\n",
    "    x = df1.drop(['Listing_Type','type','ID'], axis =1)\n",
    "    y_train_pred=rf.predict(x)\n",
    "    y_train_pred_rdf=rdf.predict(x)\n",
    "    y_train_pred_xgb=xgb_model.predict(x)\n",
    "    df_tr=pd.DataFrame(np.hstack([x,pd.DataFrame(y_train_pred),pd.DataFrame(y_train_pred_rdf),pd.DataFrame(y_train_pred_xgb)]))\n",
    "    cols=list(x.columns)\n",
    "    cols.append('pred from rf')\n",
    "    cols.append('pred from rf weight')\n",
    "    cols.append('pred from xgb')\n",
    "    df_tr.columns=cols\n",
    "    pred=model.predict(df_tr)\n",
    "    df_return=pd.DataFrame(np.hstack([df_tr,pd.DataFrame(pred)]))\n",
    "    cols=list(df_tr.columns)\n",
    "    cols.append('pred from logistic model')\n",
    "    df_return.columns=cols\n",
    "    return df_return"
   ]
  },
  {
   "cell_type": "code",
   "execution_count": 33,
   "metadata": {
    "ExecuteTime": {
     "end_time": "2019-04-23T16:40:38.155304Z",
     "start_time": "2019-04-23T16:32:08.444218Z"
    }
   },
   "outputs": [
    {
     "name": "stdout",
     "output_type": "stream",
     "text": [
      "Your selected dataframe has 74 columns.\n",
      "There are 69 columns that have missing values.\n",
      "(440731, 64)\n",
      "(437421, 194)\n"
     ]
    }
   ],
   "source": [
    "#df=prepareData(train_csv,test_csv)"
   ]
  },
  {
   "cell_type": "code",
   "execution_count": null,
   "metadata": {},
   "outputs": [],
   "source": [
    "#df15,rf,rdf,xgb_model,model=apply_models(df)"
   ]
  },
  {
   "cell_type": "markdown",
   "metadata": {
    "ExecuteTime": {
     "end_time": "2019-04-23T16:40:39.441057Z",
     "start_time": "2019-04-23T16:40:38.560465Z"
    }
   },
   "source": [
    "## Listings Ensemble with Accuracy"
   ]
  },
  {
   "cell_type": "code",
   "execution_count": 36,
   "metadata": {
    "ExecuteTime": {
     "end_time": "2019-04-23T17:00:12.155774Z",
     "start_time": "2019-04-23T17:00:11.817573Z"
    }
   },
   "outputs": [],
   "source": [
    "import itertools\n",
    "import numpy as np\n",
    "import seaborn as sns\n",
    "import matplotlib.pyplot as plt\n",
    "import matplotlib.gridspec as gridspec\n",
    "\n",
    "from sklearn import datasets\n",
    "\n",
    "from sklearn.linear_model import LogisticRegression\n",
    "from sklearn.neighbors import KNeighborsClassifier\n",
    "from sklearn.naive_bayes import GaussianNB \n",
    "from sklearn.ensemble import RandomForestClassifier\n",
    "from mlxtend.classifier import StackingClassifier\n",
    "\n",
    "from sklearn.model_selection import cross_val_score, train_test_split\n",
    "\n",
    "from mlxtend.plotting import plot_learning_curves\n",
    "from mlxtend.plotting import plot_decision_regions"
   ]
  },
  {
   "cell_type": "code",
   "execution_count": 54,
   "metadata": {
    "ExecuteTime": {
     "end_time": "2019-04-23T18:16:34.447638Z",
     "start_time": "2019-04-23T18:16:34.425697Z"
    }
   },
   "outputs": [],
   "source": [
    "def apply_ensemble_classifier(df14a):\n",
    "    \n",
    "    df15=df14a[df14a['type']=='Train']\n",
    "    y = df15['Listing_Type']\n",
    "    X = df15.drop(['Listing_Type','type','ID'], axis =1)\n",
    "    X=X.values\n",
    "    y=y.values\n",
    "    #X_train, X_test, y_train, y_test = train_test_split(x, y, test_size = 0.2, random_state=42)\n",
    "\n",
    "    class_weight = dict({0:12,1:2})\n",
    "    #clf1 = KNeighborsClassifier(n_neighbors=3)\n",
    "    clf2 = RandomForestClassifier(bootstrap=True,\n",
    "                    class_weight=class_weight, \n",
    "                    criterion='gini',\n",
    "                    max_features='auto', max_leaf_nodes=None,\n",
    "                    min_impurity_decrease=0.0, min_impurity_split=1e-07,\n",
    "                    min_samples_leaf=4, min_samples_split=10,\n",
    "                    min_weight_fraction_leaf=0.0, n_estimators=100,\n",
    "                    oob_score=False,\n",
    "                    random_state=42,\n",
    "                    verbose=0, warm_start=False)\n",
    "    clf3 = GaussianNB()\n",
    "    clf4 = xgb.XGBClassifier(objective=\"binary:logistic\", n_estimators=100, random_state=42, eval_metric=[\"auc\", \"error\", \"error@0.6\"])\n",
    "    lr = LogisticRegression()\n",
    "    sclf = StackingClassifier(classifiers=[ clf2, clf3,clf4], \n",
    "                              meta_classifier=lr)\n",
    "    label = ['Random Forest', 'Naive Bayes','XGB', 'Stacking Classifier']\n",
    "    clf_list = [ clf2, clf3,clf4, sclf]\n",
    "\n",
    "    fig = plt.figure(figsize=(10,8))\n",
    "    gs = gridspec.GridSpec(2,2)\n",
    "    grid = itertools.product([0,1],repeat=2)\n",
    "\n",
    "    clf_cv_mean = []\n",
    "    clf_cv_std = []\n",
    "    for clf, label, grd in zip(clf_list, label, grid):\n",
    "\n",
    "        scores = cross_val_score(clf, X, y, cv=2, scoring='accuracy')\n",
    "        print (\"Accuracy: %.2f (+/- %.2f) [%s]\" %(scores.mean(), scores.std(), label))\n",
    "        clf_cv_mean.append(scores.mean())\n",
    "        clf_cv_std.append(scores.std())\n",
    "\n",
    "        clf.fit(X, y)\n",
    "        #ax = plt.subplot(gs[grd[0], grd[1]])\n",
    "        #fig = plot_decision_regions(X=X, y=y, clf=clf)\n",
    "        #plt.title(label)\n",
    "\n",
    "    #plt.show()\n",
    "\n",
    "\n",
    "    #plot classifier accuracy    \n",
    "    plt.figure()\n",
    "    (_, caps, _) = plt.errorbar(range(4), clf_cv_mean, yerr=clf_cv_std, c='blue', fmt='-o', capsize=5)\n",
    "    for cap in caps:\n",
    "        cap.set_markeredgewidth(1)                                                                                                                                \n",
    "    plt.xticks(range(4), [ 'RF', 'NB','XGB','Stacking'])        \n",
    "    plt.ylabel('Accuracy'); plt.xlabel('Classifier'); plt.title('Stacking Ensemble');\n",
    "    plt.show()\n",
    "    \n",
    "    return sclf"
   ]
  },
  {
   "cell_type": "code",
   "execution_count": 55,
   "metadata": {
    "ExecuteTime": {
     "end_time": "2019-04-23T19:09:18.021134Z",
     "start_time": "2019-04-23T18:16:35.066144Z"
    }
   },
   "outputs": [
    {
     "name": "stdout",
     "output_type": "stream",
     "text": [
      "Accuracy: 0.92 (+/- 0.00) [Random Forest]\n",
      "Accuracy: 0.91 (+/- 0.00) [Naive Bayes]\n",
      "Accuracy: 0.93 (+/- 0.00) [XGB]\n",
      "Accuracy: 0.92 (+/- 0.00) [Stacking Classifier]\n"
     ]
    },
    {
     "data": {
      "text/plain": [
       "<Figure size 720x576 with 0 Axes>"
      ]
     },
     "metadata": {},
     "output_type": "display_data"
    },
    {
     "data": {
      "image/png": "[encoded data removed]",
      "text/plain": [
       "<Figure size 432x288 with 1 Axes>"
      ]
     },
     "metadata": {},
     "output_type": "display_data"
    }
   ],
   "source": [
    "#sclf=apply_ensemble_classifier(df)"
   ]
  },
  {
   "cell_type": "code",
   "execution_count": 53,
   "metadata": {
    "ExecuteTime": {
     "end_time": "2019-04-23T18:10:27.491790Z",
     "start_time": "2019-04-23T18:06:38.472142Z"
    }
   },
   "outputs": [
    {
     "data": {
      "image/png": "[encoded data removed]",
      "text/plain": [
       "<Figure size 432x288 with 1 Axes>"
      ]
     },
     "metadata": {},
     "output_type": "display_data"
    }
   ],
   "source": [
    "# #plot learning curves\n",
    "# df15=df[df['type']=='Train']\n",
    "# y = df15['Listing_Type']\n",
    "# X = df15.drop(['Listing_Type','type','ID'], axis =1)\n",
    "# X_train, X_test, y_train, y_test = train_test_split(X, y, test_size=0.3, random_state=42)\n",
    "    \n",
    "# plt.figure()\n",
    "# plot_learning_curves(X_train, y_train, X_test, y_test, sclf, print_model=False, style='ggplot')\n",
    "# plt.show()"
   ]
  },
  {
   "cell_type": "code",
   "execution_count": 66,
   "metadata": {
    "ExecuteTime": {
     "end_time": "2019-04-23T19:27:59.754897Z",
     "start_time": "2019-04-23T19:23:00.669003Z"
    }
   },
   "outputs": [],
   "source": [
    "# # Fit on train data / predict on test data\n",
    "# sclf_fit = sclf.fit(X_train, y_train)"
   ]
  },
  {
   "cell_type": "code",
   "execution_count": 68,
   "metadata": {
    "ExecuteTime": {
     "end_time": "2019-04-23T19:30:09.798398Z",
     "start_time": "2019-04-23T19:30:02.760998Z"
    }
   },
   "outputs": [],
   "source": [
    "# mypreds = sclf_fit.predict(X_test)"
   ]
  },
  {
   "cell_type": "code",
   "execution_count": 69,
   "metadata": {
    "ExecuteTime": {
     "end_time": "2019-04-23T19:30:23.036879Z",
     "start_time": "2019-04-23T19:30:19.630846Z"
    }
   },
   "outputs": [
    {
     "name": "stdout",
     "output_type": "stream",
     "text": [
      "              precision    recall  f1-score   support\n",
      "\n",
      "           0       0.54      0.68      0.61      9175\n",
      "           1       0.97      0.94      0.95     92075\n",
      "\n",
      "   micro avg       0.92      0.92      0.92    101250\n",
      "   macro avg       0.75      0.81      0.78    101250\n",
      "weighted avg       0.93      0.92      0.92    101250\n",
      "\n",
      "F1 score for all clasess is  [0.60520231 0.95490261]\n",
      "TP 86772\n",
      "TN 6282\n",
      "FP 2893\n",
      "FN 5303\n"
     ]
    },
    {
     "data": {
      "image/png": "[encoded data removed]",
      "text/plain": [
       "<Figure size 720x648 with 2 Axes>"
      ]
     },
     "metadata": {},
     "output_type": "display_data"
    }
   ],
   "source": [
    "# cnf_matrix=confusion_matrix(y_test,mypreds)\n",
    "# fig, ax = plt.subplots(figsize=(10,9))\n",
    "# sns.heatmap(cnf_matrix,annot=True,linewidths=0.5,ax=ax,fmt='d')\n",
    "# plt.title('Heat Map',fontsize=18)\n",
    "# #cmap=\"coolwarm_r\"\n",
    "# print(classification_report(y_test,mypreds))\n",
    "# f1 = f1_score(y_test,mypreds,average=None)\n",
    "# #print(\"Iter & Depth is\",(i,d))\n",
    "# print(\"F1 score for all clasess is \",f1)\n",
    "# print(\"TP\",cnf_matrix[1,1,]) \n",
    "# print(\"TN\",cnf_matrix[0,0]) \n",
    "# print(\"FP\",cnf_matrix[0,1]) \n",
    "# print(\"FN\",cnf_matrix[1,0])"
   ]
  },
  {
   "cell_type": "code",
   "execution_count": 84,
   "metadata": {
    "ExecuteTime": {
     "end_time": "2019-04-23T19:40:05.754909Z",
     "start_time": "2019-04-23T19:40:05.740755Z"
    }
   },
   "outputs": [],
   "source": [
    "def modelsstacking(df):\n",
    "    sclf=apply_ensemble_classifier(df)\n",
    "    #plot learning curves\n",
    "    df15=df[df['type']=='Train']\n",
    "    y = df15['Listing_Type']\n",
    "    X = df15.drop(['Listing_Type','type','ID'], axis =1)\n",
    "    X_train, X_test, y_train, y_test = train_test_split(X, y, test_size=0.3, random_state=42)\n",
    "\n",
    "    plt.figure()\n",
    "    plot_learning_curves(X_train, y_train, X_test, y_test, sclf, print_model=False, style='ggplot')\n",
    "    plt.show()\n",
    "\n",
    "    # Fit on train data / predict on test data\n",
    "    sclf_fit = sclf.fit(X_train, y_train)\n",
    "\n",
    "    mypreds = sclf_fit.predict(X_test)\n",
    "\n",
    "    cnf_matrix=confusion_matrix(y_test,mypreds)\n",
    "    fig, ax = plt.subplots(figsize=(10,9))\n",
    "    sns.heatmap(cnf_matrix,annot=True,linewidths=0.5,ax=ax,fmt='d')\n",
    "    plt.title('Heat Map',fontsize=18)\n",
    "    #cmap=\"coolwarm_r\"\n",
    "    print(classification_report(y_test,mypreds))\n",
    "    f1 = f1_score(y_test,mypreds,average=None)\n",
    "    #print(\"Iter & Depth is\",(i,d))\n",
    "    print(\"F1 score for all clasess is \",f1)\n",
    "    print(\"TP\",cnf_matrix[1,1,]) \n",
    "    print(\"TN\",cnf_matrix[0,0]) \n",
    "    print(\"FP\",cnf_matrix[0,1]) \n",
    "    print(\"FN\",cnf_matrix[1,0])\n",
    "\n",
    "    #plot learning curves\n",
    "    df16=df[df['type']=='Test']\n",
    "    print(df16.shape)\n",
    "    #y = df15['Listing_Type']\n",
    "    X = df16.drop(['Listing_Type','type','ID'], axis =1)\n",
    "    #X_train, X_test, y_train, y_test = train_test_split(X, y, test_size=0.3, random_state=42)\n",
    "\n",
    "    #plt.figure()\n",
    "    #plot_learning_curves(X_train, y_train, X_test, y_test, sclf, print_model=False, style='ggplot')\n",
    "    #plt.show()\n",
    "    ##predict\n",
    "\n",
    "    predictions=sclf_fit.predict(X)\n",
    "\n",
    "    finaldf=pd.DataFrame(np.hstack([df16,pd.DataFrame(predictions)]))\n",
    "    cols=list(df16.columns)\n",
    "    cols.append('predictions')\n",
    "    finaldf.columns=cols\n",
    "\n",
    "    finaldf=finaldf.drop('Listing_Type',axis=1)\n",
    "\n",
    "    finaldf['Listing_Type']=finaldf.apply(lambda x : 'Good' if x['predictions']==1 else 'Bad',axis=1)\n",
    "\n",
    "    finaldf[['ID','predictions','Listing_Type']].to_csv(r'C:\\Users\\kishore.kukreja\\Downloads\\listings\\listings_output.csv')\n",
    "    return finaldf"
   ]
  },
  {
   "cell_type": "code",
   "execution_count": 85,
   "metadata": {
    "ExecuteTime": {
     "end_time": "2019-04-23T19:40:37.699866Z",
     "start_time": "2019-04-23T19:40:37.663941Z"
    }
   },
   "outputs": [],
   "source": [
    "def predictListingType(train_csv,test_csv):\n",
    "    ##\n",
    "    print('Preparing Data')\n",
    "    df=prepareData(train_csv,test_csv)\n",
    "    print('Applying Models and genearting predictions')\n",
    "    results=modelsstacking(df)\n",
    "    return results"
   ]
  },
  {
   "cell_type": "code",
   "execution_count": null,
   "metadata": {},
   "outputs": [],
   "source": [
    "if __name__ == \"__main__\":\n",
    "    print('calling predictListingType function')\n",
    "    train_csv=r'C:\\Users\\kishore.kukreja\\Downloads\\listings\\listings.csv'\n",
    "    test_csv=r'C:\\Users\\kishore.kukreja\\Downloads\\listings_test_send\\listings_test_send.csv'\n",
    "    results=predictListingType(train_csv,test_csv)"
   ]
  }
 ],
 "metadata": {
  "kernelspec": {
   "display_name": "Python 3",
   "language": "python",
   "name": "python3"
  },
  "language_info": {
   "codemirror_mode": {
    "name": "ipython",
    "version": 3
   },
   "file_extension": ".py",
   "mimetype": "text/x-python",
   "name": "python",
   "nbconvert_exporter": "python",
   "pygments_lexer": "ipython3",
   "version": "3.6.5"
  },
  "toc": {
   "base_numbering": 1,
   "nav_menu": {},
   "number_sections": true,
   "sideBar": true,
   "skip_h1_title": false,
   "title_cell": "Table of Contents",
   "title_sidebar": "Contents",
   "toc_cell": false,
   "toc_position": {},
   "toc_section_display": true,
   "toc_window_display": false
  }
 },
 "nbformat": 4,
 "nbformat_minor": 2
}
